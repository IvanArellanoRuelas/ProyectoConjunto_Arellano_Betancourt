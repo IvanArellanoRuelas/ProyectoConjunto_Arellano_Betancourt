{
 "cells": [
  {
   "cell_type": "markdown",
   "metadata": {},
   "source": [
    "# Tarea 1 "
   ]
  },
  {
   "cell_type": "markdown",
   "metadata": {},
   "source": [
    "# Presentación Iván \n",
    "Mi nombre es **Iván Andrés Arellano Ruelas** \n",
    "lo que espero de esta clase es: \n",
    "\n",
    "1. Aprender diferentes métodos de simulación de procesos aplicados activos financieros \n",
    "2. Desarrollar aun mas mis habilidades de programación  \n",
    "3. Mejorar en el tratamiento de bases de datos "
   ]
  },
  {
   "cell_type": "markdown",
   "metadata": {},
   "source": [
    "\n",
    "| $ i $             | $ x $                | $ f(x) $                      |\n",
    "|:---:              |:------:              |:--------:                     |\n",
    "| 0                 | -1                   | 0.3678                        |\n",
    "| <font color=red>1 | <font color=red>-0.5 | <font color=red>0.7788 </font>|\n",
    "| <font color=blue>2| <font color=blue> 0  | <font color=blue> 1  </font>  |\n",
    "| <font color=red>3 | <font color=red>0.5  | <font color=red>0.7788 </font>|\n",
    "| 4                 | 1                    | 0.3678                        |\n",
    "\n",
    "\n",
    "    \n",
    "    \n",
    "$$\n",
    "  \\int_{-1}^1\n",
    "\te^{-x^{2}}\n",
    "\t\\,dx \n",
    "    \\approx\n",
    "    \\frac{0.5}{3}\n",
    "    [f(-1) + f(+1) + 4(\n",
    "    \\color{red}{f(-0.5)+f(0,5)}\n",
    "    )+2\n",
    "    \\color{blue}{f(0)}\n",
    "    ]\n",
    "$$\n",
    "\n",
    "$$\n",
    "    \\approx\n",
    "    \\frac{0,5}{3}\n",
    "    [0,3678 + 0,3678 + 4(\n",
    "    \\color{red}{0,7788+0,7788}\n",
    "    )+2\n",
    "    \\cdot\n",
    "    \\color{blue}{1}\n",
    "    ]\n",
    "    \\approx 1,4943\n",
    "$$\n",
    "   "
   ]
  },
  {
   "cell_type": "code",
   "execution_count": null,
   "metadata": {},
   "outputs": [],
   "source": []
  },
  {
   "cell_type": "code",
   "execution_count": null,
   "metadata": {},
   "outputs": [],
   "source": []
  },
  {
   "cell_type": "code",
   "execution_count": 2,
   "metadata": {},
   "outputs": [],
   "source": [
    "# Presentación Ragnar"
   ]
  },
  {
   "cell_type": "code",
   "execution_count": null,
   "metadata": {},
   "outputs": [],
   "source": []
  }
 ],
 "metadata": {
  "kernelspec": {
   "display_name": "Python 3",
   "language": "python",
   "name": "python3"
  },
  "language_info": {
   "codemirror_mode": {
    "name": "ipython",
    "version": 3
   },
   "file_extension": ".py",
   "mimetype": "text/x-python",
   "name": "python",
   "nbconvert_exporter": "python",
   "pygments_lexer": "ipython3",
   "version": "3.8.3"
  }
 },
 "nbformat": 4,
 "nbformat_minor": 4
}
