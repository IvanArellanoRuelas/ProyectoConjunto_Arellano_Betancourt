{
 "cells": [
  {
   "cell_type": "markdown",
   "metadata": {},
   "source": [
    "# Tarea 1 "
   ]
  },
  {
   "cell_type": "markdown",
   "metadata": {},
   "source": [
    "# Presentación Iván \n",
    "Mi nombre es **Iván Andrés Arellano Ruelas** \n",
    "lo que espero de esta clase es: \n",
    "\n",
    "1. Aprender diferentes métodos de simulación de procesos aplicados activos financieros \n",
    "2. Desarrollar aun mas mis habilidades de programación  \n",
    "3. Mejorar en el tratamiento de bases de datos "
   ]
  },
  {
   "cell_type": "markdown",
   "metadata": {},
   "source": [
    "\n",
    "| $ i $             | $ x $                | $ f(x) $                      |\n",
    "|:---:              |:------:              |:--------:                     |\n",
    "| 0                 | -1                   | 0.3678                        |\n",
    "| <font color=red>1 | <font color=red>-0.5 | <font color=red>0.7788 </font>|\n",
    "| <font color=blue>2| <font color=blue> 0  | <font color=blue> 1  </font>  |\n",
    "| <font color=red>3 | <font color=red>0.5  | <font color=red>0.7788 </font>|\n",
    "| 4                 | 1                    | 0.3678                        |\n",
    "    \n",
    "    \n",
    "<center> <font size=\"2\"> $ Cuadro \\ 1: Tabla\\ de \\ valores\\ f(x) $\n",
    "\n",
    "    \n",
    "    \n",
    "$$\n",
    "  \\int_{-1}^1\n",
    "\te^{-x^{2}}\n",
    "\t\\,dx \n",
    "    \\approx\n",
    "    \\frac{0.5}{3}\n",
    "    [f(-1) + f(+1) + 4(\n",
    "    \\color{red}{f(-0.5)+f(0,5)}\n",
    "    )+2\n",
    "    \\color{blue}{f(0)}\n",
    "    ]\n",
    "\\\\    \n",
    "    \\approx\n",
    "    \\frac{0,5}{3}\n",
    "    [0,3678 + 0,3678 + 4(\n",
    "    \\color{red}{0,7788+0,7788}\n",
    "    )+2\n",
    "    \\cdot\n",
    "    \\color{blue}{1}\n",
    "    ]\n",
    "    \\approx 1,4943\n",
    "$$\n",
    "   "
   ]
  },
  {
   "cell_type": "markdown",
   "metadata": {},
   "source": [
    "<center>A modo de verificación, se calculará por software, el valor del área para n = 100, un valor mucho más elevado al que se utilizó anteriormente. Si lo calculado previamente es correctol, se esperaría que sea próximo al valor presentado a continuación para ser una buena aproximación.\n",
    "    \n",
    "$$\n",
    "\\int_{-1}^1\n",
    "e^{-x^{2}}\n",
    "\\approx 1,4936\n",
    "$$"
   ]
  },
  {
   "cell_type": "code",
   "execution_count": 14,
   "metadata": {},
   "outputs": [],
   "source": [
    "# Serie de fibonacci: \n",
    "def fibonacci(n,y0,y1):\n",
    "    y = [y0,y1]\n",
    "    for i in range(n-1):\n",
    "        y.append(y[-1] + y[-2])\n",
    "    print(y)"
   ]
  },
  {
   "cell_type": "code",
   "execution_count": 15,
   "metadata": {
    "scrolled": true
   },
   "outputs": [
    {
     "name": "stdout",
     "output_type": "stream",
     "text": [
      "[0, 1, 1, 2, 3, 5, 8, 13, 21, 34, 55, 89, 144, 233, 377, 610, 987, 1597, 2584, 4181, 6765, 10946, 17711, 28657, 46368, 75025, 121393, 196418, 317811, 514229, 832040, 1346269, 2178309, 3524578, 5702887, 9227465, 14930352, 24157817, 39088169, 63245986, 102334155, 165580141, 267914296, 433494437, 701408733, 1134903170, 1836311903, 2971215073, 4807526976, 7778742049, 12586269025, 20365011074, 32951280099, 53316291173, 86267571272, 139583862445, 225851433717, 365435296162, 591286729879, 956722026041, 1548008755920, 2504730781961, 4052739537881, 6557470319842, 10610209857723, 17167680177565, 27777890035288, 44945570212853, 72723460248141, 117669030460994, 190392490709135, 308061521170129, 498454011879264, 806515533049393, 1304969544928657, 2111485077978050, 3416454622906707, 5527939700884757, 8944394323791464, 14472334024676221, 23416728348467685, 37889062373143906, 61305790721611591, 99194853094755497, 160500643816367088, 259695496911122585, 420196140727489673, 679891637638612258, 1100087778366101931, 1779979416004714189, 2880067194370816120, 4660046610375530309, 7540113804746346429, 12200160415121876738, 19740274219868223167, 31940434634990099905, 51680708854858323072, 83621143489848422977, 135301852344706746049, 218922995834555169026, 354224848179261915075]\n"
     ]
    }
   ],
   "source": [
    "fibonacci(100,0,1)"
   ]
  },
  {
   "cell_type": "code",
   "execution_count": null,
   "metadata": {},
   "outputs": [],
   "source": []
  },
  {
   "cell_type": "code",
   "execution_count": 2,
   "metadata": {},
   "outputs": [],
   "source": [
    "# Presentación Ragnar"
   ]
  },
  {
   "cell_type": "code",
   "execution_count": null,
   "metadata": {},
   "outputs": [],
   "source": []
  }
 ],
 "metadata": {
  "kernelspec": {
   "display_name": "Python 3",
   "language": "python",
   "name": "python3"
  },
  "language_info": {
   "codemirror_mode": {
    "name": "ipython",
    "version": 3
   },
   "file_extension": ".py",
   "mimetype": "text/x-python",
   "name": "python",
   "nbconvert_exporter": "python",
   "pygments_lexer": "ipython3",
   "version": "3.8.3"
  }
 },
 "nbformat": 4,
 "nbformat_minor": 4
}
